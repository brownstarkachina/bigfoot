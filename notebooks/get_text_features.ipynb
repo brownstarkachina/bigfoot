{
 "cells": [
  {
   "cell_type": "markdown",
   "id": "981b1078",
   "metadata": {},
   "source": [
    "# Get text derived features\n",
    "\n",
    "***Objective:*** Create features from the raw text of the bigfoot sighting report."
   ]
  },
  {
   "cell_type": "markdown",
   "id": "82af8bb4",
   "metadata": {},
   "source": [
    "## Required libraries"
   ]
  },
  {
   "cell_type": "code",
   "execution_count": 1,
   "id": "5c249658",
   "metadata": {},
   "outputs": [],
   "source": [
    "from datetime import datetime\n",
    "import os\n",
    "import pandas as pd\n",
    "import requests"
   ]
  },
  {
   "cell_type": "markdown",
   "id": "73db11f6",
   "metadata": {},
   "source": [
    "## Required function"
   ]
  },
  {
   "cell_type": "code",
   "execution_count": 2,
   "id": "6293fd2e",
   "metadata": {},
   "outputs": [],
   "source": [
    "def get_word_status(input_dataframe, search_column_name, keyword_list,\n",
    "                    new_column_name):\n",
    "    # PURPOSE\n",
    "    #   This function will search all the observations for keywords and then\n",
    "    #   note the whether the keyword is present or absent from the observation\n",
    "    #   text. It then returns a copy of the supplied dataframe with a new\n",
    "    #   column that has the recording of the keyword.\n",
    "    #\n",
    "    # INPUTS\n",
    "    #   input_dataframe        := The name of the dataframe that the data \n",
    "    #                             resides. Type should be \n",
    "    #                             pandas.core.frame.DataFrame\n",
    "    #   search_column_name     := The name of the column in the dataframe to \n",
    "    #                             search. Type should be string.\n",
    "    #   keyword_list           := The keywords to search for all in lowercase.\n",
    "    #                             Type should be a list containing only \n",
    "    #                             strings.\n",
    "    #   new_column_name        := The desired name of the new column that\n",
    "    #                             contains an indicator string for the presense\n",
    "    #                             of any of the keywords in keyword_list. Type\n",
    "    #                             should be string.\n",
    "    #\n",
    "    # OUTPUT\n",
    "    #   N/A\n",
    "    #\n",
    "    # RETURNS\n",
    "    #   A pandas dataframe containing an additional column that notes whether\n",
    "    #   any of the keywords listed in keyword_list was found in the raw\n",
    "    #   observation text.\n",
    "    flag_list = []\n",
    "    for obs in input_dataframe[search_column_name]:\n",
    "        count = 0\n",
    "        for keyword in keyword_list:\n",
    "            if keyword in obs.lower():\n",
    "                count += 1\n",
    "        if count > 0:\n",
    "            flag_list.append(\"Yes\")\n",
    "        else:\n",
    "            flag_list.append(\"No\")\n",
    "    input_dataframe[new_column_name] = flag_list\n",
    "    return input_dataframe"
   ]
  },
  {
   "cell_type": "markdown",
   "id": "5a509d0f",
   "metadata": {},
   "source": [
    "## Bring the data in"
   ]
  },
  {
   "cell_type": "code",
   "execution_count": 3,
   "id": "6d5d9e7e",
   "metadata": {},
   "outputs": [],
   "source": [
    "os.chdir(\"../data/interim/\")"
   ]
  },
  {
   "cell_type": "code",
   "execution_count": 4,
   "id": "7dbf11f5",
   "metadata": {},
   "outputs": [],
   "source": [
    "dat = pd.read_csv(\"add_init_raw_feats_20230416_0636.csv\")"
   ]
  },
  {
   "cell_type": "code",
   "execution_count": 5,
   "id": "462e75f0",
   "metadata": {},
   "outputs": [
    {
     "name": "stdout",
     "output_type": "stream",
     "text": [
      "<class 'pandas.core.frame.DataFrame'>\n",
      "RangeIndex: 4086 entries, 0 to 4085\n",
      "Data columns (total 27 columns):\n",
      " #   Column                        Non-Null Count  Dtype  \n",
      "---  ------                        --------------  -----  \n",
      " 0   observed                      4053 non-null   object \n",
      " 1   county                        4086 non-null   object \n",
      " 2   state                         4086 non-null   object \n",
      " 3   season                        4086 non-null   object \n",
      " 4   latitude                      4086 non-null   float64\n",
      " 5   longitude                     4086 non-null   float64\n",
      " 6   date                          4086 non-null   object \n",
      " 7   classification                4086 non-null   object \n",
      " 8   temperature_high              4086 non-null   float64\n",
      " 9   temperature_mid               3949 non-null   float64\n",
      " 10  temperature_low               4086 non-null   float64\n",
      " 11  dew_point                     3936 non-null   float64\n",
      " 12  humidity                      3936 non-null   float64\n",
      " 13  cloud_cover                   3924 non-null   float64\n",
      " 14  precip_intensity              3510 non-null   float64\n",
      " 15  precip_probability            3949 non-null   float64\n",
      " 16  pressure                      3664 non-null   float64\n",
      " 17  visibility                    3901 non-null   float64\n",
      " 18  wind_bearing                  3940 non-null   float64\n",
      " 19  wind_speed                    3949 non-null   float64\n",
      " 20  rain_or_snow                  4086 non-null   object \n",
      " 21  cloudy_or_overcast            4086 non-null   object \n",
      " 22  temperature_range             4086 non-null   float64\n",
      " 23  moon_phase_cycle              4086 non-null   object \n",
      " 24  day_of_week                   4086 non-null   object \n",
      " 25  weekend_flag                  4086 non-null   object \n",
      " 26  zodiac_sign_of_sighting_date  4086 non-null   object \n",
      "dtypes: float64(15), object(12)\n",
      "memory usage: 862.0+ KB\n"
     ]
    }
   ],
   "source": [
    "dat.info()"
   ]
  },
  {
   "cell_type": "code",
   "execution_count": 6,
   "id": "3a4e0453",
   "metadata": {},
   "outputs": [],
   "source": [
    "# Remove nulls from the `observed` feature\n",
    "dat = dat[dat[\"observed\"].notna()]"
   ]
  },
  {
   "cell_type": "markdown",
   "id": "4ed41d05",
   "metadata": {},
   "source": [
    "## Create some features by looking for the presense of certain words\n",
    "\n",
    "While normally, one might want to use some NLP here, i.e., topic modelling, $n$-grams, etc., we have elected not to do that as that would be overkill for the goal of this project: build a basic interactive dashboard on Tableau public.\n",
    "\n",
    "Thus, we merely check for the presence of certain keywords that we believe may be interesting."
   ]
  },
  {
   "cell_type": "code",
   "execution_count": 7,
   "id": "2d898cfe",
   "metadata": {},
   "outputs": [],
   "source": [
    "dat = get_word_status(dat, \"observed\", [\"hunt\"], \"hunting\")"
   ]
  },
  {
   "cell_type": "code",
   "execution_count": 8,
   "id": "74bc8c28",
   "metadata": {},
   "outputs": [],
   "source": [
    "dat = get_word_status(dat, \"observed\", [\"fish\"], \"fishing\")"
   ]
  },
  {
   "cell_type": "code",
   "execution_count": 9,
   "id": "86c05442",
   "metadata": {},
   "outputs": [],
   "source": [
    "dat = get_word_status(dat, \"observed\", [\"camp\", \"tent\"], \"camping\")"
   ]
  },
  {
   "cell_type": "code",
   "execution_count": 10,
   "id": "c43bec28",
   "metadata": {},
   "outputs": [],
   "source": [
    "dat = get_word_status(dat, \"observed\", [\"hike\", \"hiking\", \"hikeing\"], \"hiking\")"
   ]
  },
  {
   "cell_type": "code",
   "execution_count": 11,
   "id": "fc580bc9",
   "metadata": {},
   "outputs": [],
   "source": [
    "dat = get_word_status(dat, \"observed\", [\"drive\", \"driving\", \"driveing\"], \"driving\")"
   ]
  },
  {
   "cell_type": "markdown",
   "id": "d36c5f82",
   "metadata": {},
   "source": [
    "## Write to file to be used for Tableau dashboard"
   ]
  },
  {
   "cell_type": "code",
   "execution_count": 12,
   "id": "658005de",
   "metadata": {},
   "outputs": [],
   "source": [
    "os.chdir(\"../processed\")"
   ]
  },
  {
   "cell_type": "code",
   "execution_count": 13,
   "id": "a3814c02",
   "metadata": {},
   "outputs": [],
   "source": [
    "file_name_root = \"processed_bigfoot_data_\"\n",
    "date_time_str = datetime.today().strftime(\"%Y-%m-%d %H:%M\")\n",
    "date_str = date_time_str.split()[0].replace(\"-\", \"\") + \"_\"\n",
    "time_str = date_time_str.split()[1].replace(\":\", \"\")\n",
    "del date_time_str\n",
    "file_ext = \".csv\"\n",
    "file_name = file_name_root + date_str + time_str + file_ext\n",
    "del file_name_root\n",
    "del date_str\n",
    "del time_str\n",
    "del file_ext"
   ]
  },
  {
   "cell_type": "code",
   "execution_count": 14,
   "id": "cd0d7627",
   "metadata": {},
   "outputs": [
    {
     "name": "stdout",
     "output_type": "stream",
     "text": [
      "processed_bigfoot_data_20230416_1539.csv\n"
     ]
    }
   ],
   "source": [
    "print(file_name)"
   ]
  },
  {
   "cell_type": "code",
   "execution_count": 15,
   "id": "03a2a7ff",
   "metadata": {},
   "outputs": [],
   "source": [
    "dat.to_csv(file_name, sep=\",\", index=False)\n",
    "del file_name"
   ]
  },
  {
   "cell_type": "code",
   "execution_count": 16,
   "id": "190c14e6",
   "metadata": {},
   "outputs": [
    {
     "name": "stdout",
     "output_type": "stream",
     "text": [
      "<class 'pandas.core.frame.DataFrame'>\n",
      "Int64Index: 4053 entries, 0 to 4085\n",
      "Data columns (total 32 columns):\n",
      " #   Column                        Non-Null Count  Dtype  \n",
      "---  ------                        --------------  -----  \n",
      " 0   observed                      4053 non-null   object \n",
      " 1   county                        4053 non-null   object \n",
      " 2   state                         4053 non-null   object \n",
      " 3   season                        4053 non-null   object \n",
      " 4   latitude                      4053 non-null   float64\n",
      " 5   longitude                     4053 non-null   float64\n",
      " 6   date                          4053 non-null   object \n",
      " 7   classification                4053 non-null   object \n",
      " 8   temperature_high              4053 non-null   float64\n",
      " 9   temperature_mid               3918 non-null   float64\n",
      " 10  temperature_low               4053 non-null   float64\n",
      " 11  dew_point                     3905 non-null   float64\n",
      " 12  humidity                      3905 non-null   float64\n",
      " 13  cloud_cover                   3893 non-null   float64\n",
      " 14  precip_intensity              3482 non-null   float64\n",
      " 15  precip_probability            3918 non-null   float64\n",
      " 16  pressure                      3635 non-null   float64\n",
      " 17  visibility                    3870 non-null   float64\n",
      " 18  wind_bearing                  3909 non-null   float64\n",
      " 19  wind_speed                    3918 non-null   float64\n",
      " 20  rain_or_snow                  4053 non-null   object \n",
      " 21  cloudy_or_overcast            4053 non-null   object \n",
      " 22  temperature_range             4053 non-null   float64\n",
      " 23  moon_phase_cycle              4053 non-null   object \n",
      " 24  day_of_week                   4053 non-null   object \n",
      " 25  weekend_flag                  4053 non-null   object \n",
      " 26  zodiac_sign_of_sighting_date  4053 non-null   object \n",
      " 27  hunting                       4053 non-null   object \n",
      " 28  fishing                       4053 non-null   object \n",
      " 29  camping                       4053 non-null   object \n",
      " 30  hiking                        4053 non-null   object \n",
      " 31  driving                       4053 non-null   object \n",
      "dtypes: float64(15), object(17)\n",
      "memory usage: 1.0+ MB\n"
     ]
    }
   ],
   "source": [
    "dat.info()"
   ]
  }
 ],
 "metadata": {
  "kernelspec": {
   "display_name": "Python 3 (ipykernel)",
   "language": "python",
   "name": "python3"
  },
  "language_info": {
   "codemirror_mode": {
    "name": "ipython",
    "version": 3
   },
   "file_extension": ".py",
   "mimetype": "text/x-python",
   "name": "python",
   "nbconvert_exporter": "python",
   "pygments_lexer": "ipython3",
   "version": "3.9.13"
  }
 },
 "nbformat": 4,
 "nbformat_minor": 5
}
