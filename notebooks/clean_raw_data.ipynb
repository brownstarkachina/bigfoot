{
 "cells": [
  {
   "cell_type": "markdown",
   "id": "90aaaa80",
   "metadata": {},
   "source": [
    "# Clean raw Bigfood data\n",
    "\n",
    "***Objective:*** Take the raw data and clean it up a little bit to get it ready for next steps."
   ]
  },
  {
   "cell_type": "markdown",
   "id": "1fb67071",
   "metadata": {},
   "source": [
    "## Required libraries"
   ]
  },
  {
   "cell_type": "code",
   "execution_count": 1,
   "id": "c46c88af",
   "metadata": {},
   "outputs": [],
   "source": [
    "from datetime import datetime\n",
    "import os\n",
    "import pandas as pd"
   ]
  },
  {
   "cell_type": "markdown",
   "id": "89bd381c",
   "metadata": {},
   "source": [
    "## Required function"
   ]
  },
  {
   "cell_type": "code",
   "execution_count": 2,
   "id": "dc1f2784",
   "metadata": {},
   "outputs": [],
   "source": [
    "def zodiac_sign(day, month):\n",
    "    # Adapted from:\n",
    "    #     https://stackoverflow.com/questions/61537916/map-column-birthdates-in-python-pandas-df-to-astrology-signs\n",
    "    #\n",
    "    # PURPOSE\n",
    "    #     This function will receive a day and month as arguments and \n",
    "    #     then return the zodiac sign for the date.\n",
    "    #\n",
    "    # INPUTS\n",
    "    #     day   := The day of the month. Type should be numeric.\n",
    "    #     month := The full name of the month. Type should be a string and all \n",
    "    #              chars should be lowercase.\n",
    "    #\n",
    "    # OUTPUT\n",
    "    #     N/A.\n",
    "    #\n",
    "    # RETURNS\n",
    "    #     The zodiac sign of the date provided. Type will be a string.\n",
    "    if month == 'december': \n",
    "        return 'Sagittarius' if (day < 22) else 'Capricorn'\n",
    "    elif month == 'january': \n",
    "        return 'Capricorn' if (day < 20) else 'Aquarius'\n",
    "    elif month == 'february': \n",
    "        return 'Aquarius' if (day < 19) else 'Pisces'\n",
    "    elif month == 'march': \n",
    "        return 'Pisces' if (day < 21) else 'Aries'\n",
    "    elif month == 'april': \n",
    "        return 'Aries' if (day < 20) else 'Taurus'\n",
    "    elif month == 'may': \n",
    "        return 'Taurus' if (day < 21) else 'Gemini'\n",
    "    elif month == 'june': \n",
    "        return 'Gemini' if (day < 21) else 'Cancer'\n",
    "    elif month == 'july': \n",
    "        return 'Cancer' if (day < 23) else 'Leo'\n",
    "    elif month == 'august': \n",
    "        return 'Leo' if (day < 23) else 'Virgo'\n",
    "    elif month == 'september': \n",
    "        return 'Virgo' if (day < 23) else 'Libra'\n",
    "    elif month == 'october': \n",
    "        return 'Libra' if (day < 23) else 'Scorpio'\n",
    "    elif month == 'november': \n",
    "        return 'scorpio' if (day < 22) else 'Sagittarius'"
   ]
  },
  {
   "cell_type": "markdown",
   "id": "b4083e04",
   "metadata": {},
   "source": [
    "## Bring the data in"
   ]
  },
  {
   "cell_type": "code",
   "execution_count": 3,
   "id": "4fbe4557",
   "metadata": {},
   "outputs": [],
   "source": [
    "os.chdir(\"../data/raw/\")"
   ]
  },
  {
   "cell_type": "code",
   "execution_count": 4,
   "id": "1fa763e9",
   "metadata": {},
   "outputs": [],
   "source": [
    "dat = pd.read_csv(\"bfro_reports_geocoded.csv\")"
   ]
  },
  {
   "cell_type": "code",
   "execution_count": 5,
   "id": "b0396c8a",
   "metadata": {},
   "outputs": [],
   "source": [
    "# Remove the observations not having a lat/long because I want to plot the\n",
    "# locations of the sightings\n",
    "dat = dat[dat[\"longitude\"].notna()]"
   ]
  },
  {
   "cell_type": "code",
   "execution_count": 6,
   "id": "76b5cb04",
   "metadata": {},
   "outputs": [],
   "source": [
    "# Remove the observations not having a high or low temp recorded\n",
    "dat = dat[dat[\"temperature_high\"].notna()]"
   ]
  },
  {
   "cell_type": "code",
   "execution_count": 7,
   "id": "d175259e",
   "metadata": {},
   "outputs": [
    {
     "name": "stdout",
     "output_type": "stream",
     "text": [
      "<class 'pandas.core.frame.DataFrame'>\n",
      "Int64Index: 4102 entries, 1 to 5073\n",
      "Data columns (total 29 columns):\n",
      " #   Column              Non-Null Count  Dtype  \n",
      "---  ------              --------------  -----  \n",
      " 0   observed            4069 non-null   object \n",
      " 1   location_details    3493 non-null   object \n",
      " 2   county              4102 non-null   object \n",
      " 3   state               4102 non-null   object \n",
      " 4   season              4102 non-null   object \n",
      " 5   title               4102 non-null   object \n",
      " 6   latitude            4102 non-null   float64\n",
      " 7   longitude           4102 non-null   float64\n",
      " 8   date                4102 non-null   object \n",
      " 9   number              4102 non-null   float64\n",
      " 10  classification      4102 non-null   object \n",
      " 11  geohash             4102 non-null   object \n",
      " 12  temperature_high    4102 non-null   float64\n",
      " 13  temperature_mid     3964 non-null   float64\n",
      " 14  temperature_low     4102 non-null   float64\n",
      " 15  dew_point           3951 non-null   float64\n",
      " 16  humidity            3951 non-null   float64\n",
      " 17  cloud_cover         3939 non-null   float64\n",
      " 18  moon_phase          4102 non-null   float64\n",
      " 19  precip_intensity    3524 non-null   float64\n",
      " 20  precip_probability  3964 non-null   float64\n",
      " 21  precip_type         1309 non-null   object \n",
      " 22  pressure            3678 non-null   float64\n",
      " 23  summary             3964 non-null   object \n",
      " 24  conditions          3964 non-null   object \n",
      " 25  uv_index            394 non-null    float64\n",
      " 26  visibility          3916 non-null   float64\n",
      " 27  wind_bearing        3955 non-null   float64\n",
      " 28  wind_speed          3964 non-null   float64\n",
      "dtypes: float64(17), object(12)\n",
      "memory usage: 961.4+ KB\n"
     ]
    }
   ],
   "source": [
    "dat.info()"
   ]
  },
  {
   "cell_type": "markdown",
   "id": "7c26a61e",
   "metadata": {},
   "source": [
    "## Drop unnecessary columns"
   ]
  },
  {
   "cell_type": "code",
   "execution_count": 8,
   "id": "245ea09a",
   "metadata": {},
   "outputs": [],
   "source": [
    "dat = dat.drop([\"location_details\",\n",
    "                \"title\",\n",
    "                \"number\",\n",
    "                \"geohash\",\n",
    "                \"precip_type\",\n",
    "                \"summary\",\n",
    "                \"uv_index\"], axis=1)"
   ]
  },
  {
   "cell_type": "markdown",
   "id": "6100401e",
   "metadata": {},
   "source": [
    "## Get rid of the Class C reports\n",
    "\n",
    "The BFRO defines Class C reports as follows: \n",
    "\n",
    ">Most second-hand reports, and any third-hand reports, or stories with an untraceable sources, are considered Class C, because of the high potential for inaccuracy. Those reports are kept in BFRO archives but are very rarely listed publicly in this database. The exceptions are for published, or locally documented incidents from before 1958 (before the word \"Bigfoot\" entered the American vocabulary), and sightings mentioned in non-tabloid newspapers or magazines. https://www.bfro.net/GDB/classify.asp\n",
    "\n",
    "Given the above definition we will remove them."
   ]
  },
  {
   "cell_type": "code",
   "execution_count": 9,
   "id": "b9d56098",
   "metadata": {},
   "outputs": [],
   "source": [
    "dat = dat[dat[\"classification\"] != \"Class C\"]"
   ]
  },
  {
   "cell_type": "markdown",
   "id": "732f7c4b",
   "metadata": {},
   "source": [
    "## Create weather related features"
   ]
  },
  {
   "cell_type": "markdown",
   "id": "6b6eca9d",
   "metadata": {},
   "source": [
    "### Snow or rain feature"
   ]
  },
  {
   "cell_type": "code",
   "execution_count": 10,
   "id": "2dba08e8",
   "metadata": {},
   "outputs": [],
   "source": [
    "rain_snow = []\n",
    "for condition in dat[\"conditions\"]:\n",
    "    if type(condition) == float: # Deal with the NaNs\n",
    "        rain_snow.append(\"Unknown\")\n",
    "    else:\n",
    "        if \"rain\" in condition.lower() and \"snow\" in condition.lower():\n",
    "            rain_snow.append(\"Rain & Snow\")\n",
    "        elif \"rain\" in condition.lower():\n",
    "            rain_snow.append(\"Rain\")\n",
    "        elif \"snow\" in condition.lower():\n",
    "            rain_snow.append(\"Snow\")\n",
    "        else:\n",
    "            rain_snow.append(\"No Rain or Snow\")\n",
    "dat[\"rain_or_snow\"] = rain_snow\n",
    "del rain_snow"
   ]
  },
  {
   "cell_type": "markdown",
   "id": "d9a8eaa7",
   "metadata": {},
   "source": [
    "### Cloud cover feature"
   ]
  },
  {
   "cell_type": "code",
   "execution_count": 11,
   "id": "17d30685",
   "metadata": {},
   "outputs": [],
   "source": [
    "cloud_conditions = []\n",
    "for condition in dat[\"conditions\"]:\n",
    "    if type(condition) == float:\n",
    "        cloud_conditions.append(\"Unknown\")\n",
    "    else:\n",
    "        if \"overcast\" in condition.lower():\n",
    "            cloud_conditions.append(\"Overcast\")\n",
    "        elif \"partially\" in condition.lower():\n",
    "            cloud_conditions.append(\"Partially Cloudy\")\n",
    "        else:\n",
    "            cloud_conditions.append(\"Clear\")\n",
    "del condition\n",
    "dat[\"cloudy_or_overcast\"] = cloud_conditions\n",
    "del cloud_conditions\n",
    "dat = dat.drop([\"conditions\"], axis=1)"
   ]
  },
  {
   "cell_type": "markdown",
   "id": "16ec9be8",
   "metadata": {},
   "source": [
    "### Temperature range"
   ]
  },
  {
   "cell_type": "code",
   "execution_count": 12,
   "id": "ca46911a",
   "metadata": {},
   "outputs": [],
   "source": [
    "dat[\"temperature_range\"] = dat[\"temperature_high\"] - dat[\"temperature_low\"]"
   ]
  },
  {
   "cell_type": "markdown",
   "id": "5f98ec7a",
   "metadata": {},
   "source": [
    "## Code a \"better\" `moon_phase` feature\n",
    "\n",
    "While the raw data has a feature for the moon phase at the time of the sighting (`moon_phase`), it is a float in $[0,1)$ and not easily human interpretable. To make the moon phase more easier to understand, we will code a categorical feature for the moon phase called `moon_phase_cycle`.\n",
    "\n",
    "The mapping of the original values into string is taken from the weather site (Visual Crossing) that the original weather data came from. Below is the breakdown that they provide.\n",
    "\n",
    ">The moon phase number represents the fractional portion through the current moon lunation cycle ranging from 0 (the new moon) to 0.5 (the full moon) and back to 1 (the next new moon). These numbers are similar to other Weather API providers such as Dark Sky so converting existing applications is easy.\n",
    ">Traditional, western moon cycles are therefore represented by the following values:\n",
    ">\n",
    ">* 0 – new moon\n",
    ">* 0-0.25 – waxing crescent\n",
    ">* 0.25 – first quarter\n",
    ">* 0.25-0.5 – waxing gibbous\n",
    ">* 0.5 – full moon\n",
    ">* 0.5-0.75 – waning gibbous\n",
    ">* 0.75 – last quarter\n",
    ">* 0.75 -1 – waning crescent\n",
    ">\n",
    ">Moon phases are reported at midday local time. On days where a quarterly phase occurs (new moon, first quarter, full moon and last quarter) the values are rounded to the quarterly phase value (0, 0.25, 0.5, 0.75). Therefore you can identify the quarterly days by identifying days with these values.\n",
    ">\n",
    ">Source: https://www.visualcrossing.com/resources/documentation/weather-api/how-to-include-sunrise-sunset-and-moon-phase-data-into-your-api-requests/\n"
   ]
  },
  {
   "cell_type": "code",
   "execution_count": 13,
   "id": "25095ef0",
   "metadata": {},
   "outputs": [],
   "source": [
    "moon_phase_cycle = []\n",
    "for phase in dat[\"moon_phase\"]:\n",
    "    if phase == 0:\n",
    "        moon_phase_cycle.append(\"New Moon\")\n",
    "    elif phase > 0 and phase < 0.25:\n",
    "        moon_phase_cycle.append(\"Waxing Crescent\")\n",
    "    elif phase == 0.25:\n",
    "        moon_phase_cycle.append(\"First Quarter\")\n",
    "    elif phase > 0.25 and phase < 0.5:\n",
    "        moon_phase_cycle.append(\"Waxing Gibbous\")\n",
    "    elif phase == 0.5:\n",
    "        moon_phase_cycle.append(\"Full Moon\")\n",
    "    elif phase > 0.5 and phase < 0.75:\n",
    "        moon_phase_cycle.append(\"Waning Gibbous\")\n",
    "    elif phase == 0.75:\n",
    "        moon_phase_cycle.append(\"Last Quarter\")\n",
    "    elif phase > 0.75 and phase < 1:\n",
    "        moon_phase_cycle.append(\"Waning Crescent\")\n",
    "    else: # Likely not needed, will act as a canary for EDA\n",
    "        moon_phase_cycle.append(\"INVALID PHASE\")\n",
    "del phase\n",
    "dat = dat.drop([\"moon_phase\"], axis=1)\n",
    "dat[\"moon_phase_cycle\"] = moon_phase_cycle\n",
    "del moon_phase_cycle"
   ]
  },
  {
   "cell_type": "markdown",
   "id": "67516a84",
   "metadata": {},
   "source": [
    "## Create features based on the date of the sighting"
   ]
  },
  {
   "cell_type": "markdown",
   "id": "8314ba3d",
   "metadata": {},
   "source": [
    "### Day of the week"
   ]
  },
  {
   "cell_type": "code",
   "execution_count": 14,
   "id": "63dca2e6",
   "metadata": {},
   "outputs": [],
   "source": [
    "dat[\"day_of_week\"] = pd.to_datetime(dat[\"date\"]).dt.day_name()"
   ]
  },
  {
   "cell_type": "markdown",
   "id": "98ea4bb1",
   "metadata": {},
   "source": [
    "### Create a flag for weekend"
   ]
  },
  {
   "cell_type": "code",
   "execution_count": 15,
   "id": "3fbe504e",
   "metadata": {},
   "outputs": [],
   "source": [
    "dat[\"weekend_flag\"] = [\"Yes\" if day in [\"Saturday\", \"Sunday\"] else \"No\" \n",
    "                       for day in dat[\"day_of_week\"]]"
   ]
  },
  {
   "cell_type": "markdown",
   "id": "1679aef3",
   "metadata": {},
   "source": [
    "### Zodiac sign on the day of the sighting"
   ]
  },
  {
   "cell_type": "code",
   "execution_count": 16,
   "id": "710078a3",
   "metadata": {},
   "outputs": [],
   "source": [
    "dat[\"temp_date\"] = pd.to_datetime(dat[\"date\"])\n",
    "dat[\"zodiac_sign_of_sighting_date\"] = dat[\"temp_date\"].apply(lambda x: zodiac_sign(x.day, x.strftime(\"%B\").lower()))\n",
    "dat = dat.drop([\"temp_date\"], axis=1)"
   ]
  },
  {
   "cell_type": "markdown",
   "id": "4cda8891",
   "metadata": {},
   "source": [
    "## Write to file"
   ]
  },
  {
   "cell_type": "code",
   "execution_count": 17,
   "id": "736103e7",
   "metadata": {},
   "outputs": [],
   "source": [
    "os.chdir(\"../interim/\")"
   ]
  },
  {
   "cell_type": "code",
   "execution_count": 18,
   "id": "0b6403d1",
   "metadata": {},
   "outputs": [],
   "source": [
    "file_name_root = \"add_init_raw_feats_\"\n",
    "date_time_str = datetime.today().strftime(\"%Y-%m-%d %H:%M\")\n",
    "date_str = date_time_str.split()[0].replace(\"-\", \"\") + \"_\"\n",
    "time_str = date_time_str.split()[1].replace(\":\", \"\")\n",
    "del date_time_str\n",
    "file_ext = \".csv\"\n",
    "file_name = file_name_root + date_str + time_str + file_ext\n",
    "del file_name_root\n",
    "del date_str\n",
    "del time_str\n",
    "del file_ext"
   ]
  },
  {
   "cell_type": "code",
   "execution_count": 19,
   "id": "15eaaa93",
   "metadata": {},
   "outputs": [
    {
     "name": "stdout",
     "output_type": "stream",
     "text": [
      "add_init_raw_feats_20230409_1433.csv\n"
     ]
    }
   ],
   "source": [
    "print(file_name)"
   ]
  },
  {
   "cell_type": "code",
   "execution_count": 20,
   "id": "30e1b224",
   "metadata": {},
   "outputs": [],
   "source": [
    "dat.to_csv(file_name, sep=\",\", index=False)\n",
    "del file_name"
   ]
  },
  {
   "cell_type": "code",
   "execution_count": 21,
   "id": "e51df054",
   "metadata": {},
   "outputs": [
    {
     "name": "stdout",
     "output_type": "stream",
     "text": [
      "<class 'pandas.core.frame.DataFrame'>\n",
      "Int64Index: 4086 entries, 1 to 5073\n",
      "Data columns (total 27 columns):\n",
      " #   Column                        Non-Null Count  Dtype  \n",
      "---  ------                        --------------  -----  \n",
      " 0   observed                      4053 non-null   object \n",
      " 1   county                        4086 non-null   object \n",
      " 2   state                         4086 non-null   object \n",
      " 3   season                        4086 non-null   object \n",
      " 4   latitude                      4086 non-null   float64\n",
      " 5   longitude                     4086 non-null   float64\n",
      " 6   date                          4086 non-null   object \n",
      " 7   classification                4086 non-null   object \n",
      " 8   temperature_high              4086 non-null   float64\n",
      " 9   temperature_mid               3949 non-null   float64\n",
      " 10  temperature_low               4086 non-null   float64\n",
      " 11  dew_point                     3936 non-null   float64\n",
      " 12  humidity                      3936 non-null   float64\n",
      " 13  cloud_cover                   3924 non-null   float64\n",
      " 14  precip_intensity              3510 non-null   float64\n",
      " 15  precip_probability            3949 non-null   float64\n",
      " 16  pressure                      3664 non-null   float64\n",
      " 17  visibility                    3901 non-null   float64\n",
      " 18  wind_bearing                  3940 non-null   float64\n",
      " 19  wind_speed                    3949 non-null   float64\n",
      " 20  rain_or_snow                  4086 non-null   object \n",
      " 21  cloudy_or_overcast            4086 non-null   object \n",
      " 22  temperature_range             4086 non-null   float64\n",
      " 23  moon_phase_cycle              4086 non-null   object \n",
      " 24  day_of_week                   4086 non-null   object \n",
      " 25  weekend_flag                  4086 non-null   object \n",
      " 26  zodiac_sign_of_sighting_date  4086 non-null   object \n",
      "dtypes: float64(15), object(12)\n",
      "memory usage: 893.8+ KB\n"
     ]
    }
   ],
   "source": [
    "dat.info()"
   ]
  }
 ],
 "metadata": {
  "kernelspec": {
   "display_name": "Python 3 (ipykernel)",
   "language": "python",
   "name": "python3"
  },
  "language_info": {
   "codemirror_mode": {
    "name": "ipython",
    "version": 3
   },
   "file_extension": ".py",
   "mimetype": "text/x-python",
   "name": "python",
   "nbconvert_exporter": "python",
   "pygments_lexer": "ipython3",
   "version": "3.9.13"
  }
 },
 "nbformat": 4,
 "nbformat_minor": 5
}
